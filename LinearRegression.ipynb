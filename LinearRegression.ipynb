{
  "nbformat": 4,
  "nbformat_minor": 0,
  "metadata": {
    "colab": {
      "provenance": [],
      "authorship_tag": "ABX9TyNXgrJVBGp2jYJupIU2fTi1",
      "include_colab_link": true
    },
    "kernelspec": {
      "name": "python3",
      "display_name": "Python 3"
    },
    "language_info": {
      "name": "python"
    }
  },
  "cells": [
    {
      "cell_type": "markdown",
      "metadata": {
        "id": "view-in-github",
        "colab_type": "text"
      },
      "source": [
        "<a href=\"https://colab.research.google.com/github/Mina-T/Machine-learning/blob/main/LinearRegression.ipynb\" target=\"_parent\"><img src=\"https://colab.research.google.com/assets/colab-badge.svg\" alt=\"Open In Colab\"/></a>"
      ]
    },
    {
      "cell_type": "code",
      "execution_count": null,
      "metadata": {
        "id": "xJk_oOaJuTgB"
      },
      "outputs": [],
      "source": [
        "import torch\n",
        "from random import random"
      ]
    },
    {
      "cell_type": "code",
      "source": [
        "x = torch.arange(0,1,0.01).unsqueeze(dim =1)\n",
        "y = 0.6 * x + 0.7 \n",
        "rand = torch.rand(100).unsqueeze(dim =1)\n",
        "y = torch.add(y , 0.2 * rand)\n",
        "rand = torch.rand(100).unsqueeze(dim =1)\n",
        "y = torch.add(y , -0.15 * rand)\n"
      ],
      "metadata": {
        "id": "C7suZOJZubVs"
      },
      "execution_count": null,
      "outputs": []
    },
    {
      "cell_type": "code",
      "source": [
        "from matplotlib import pyplot as plt\n",
        "plt.scatter(x, y)"
      ],
      "metadata": {
        "colab": {
          "base_uri": "https://localhost:8080/",
          "height": 283
        },
        "id": "xFUlJhPo315A",
        "outputId": "10fec53b-470b-4e39-c33d-c091b0fbbdc5"
      },
      "execution_count": null,
      "outputs": [
        {
          "output_type": "execute_result",
          "data": {
            "text/plain": [
              "<matplotlib.collections.PathCollection at 0x7fd218f2b5b0>"
            ]
          },
          "metadata": {},
          "execution_count": 42
        },
        {
          "output_type": "display_data",
          "data": {
            "text/plain": [
              "<Figure size 432x288 with 1 Axes>"
            ],
            "image/png": "[encoded data removed]"
          },
          "metadata": {
            "needs_background": "light"
          }
        }
      ]
    },
    {
      "cell_type": "code",
      "source": [
        "splitting = int(len(x)*0.6)\n",
        "splitting"
      ],
      "metadata": {
        "colab": {
          "base_uri": "https://localhost:8080/"
        },
        "id": "XhCPU6xahAn7",
        "outputId": "1dd10b4e-3a5c-41b4-f764-eccb45a2d59f"
      },
      "execution_count": null,
      "outputs": [
        {
          "output_type": "execute_result",
          "data": {
            "text/plain": [
              "60"
            ]
          },
          "metadata": {},
          "execution_count": 43
        }
      ]
    },
    {
      "cell_type": "code",
      "source": [
        "prediction_splitting = int(len(x)*0.8)\n",
        "prediction_splitting"
      ],
      "metadata": {
        "colab": {
          "base_uri": "https://localhost:8080/"
        },
        "id": "hqfPPuM6nFfb",
        "outputId": "24c59e59-b1a9-4890-f78f-e101b496bf80"
      },
      "execution_count": null,
      "outputs": [
        {
          "output_type": "execute_result",
          "data": {
            "text/plain": [
              "80"
            ]
          },
          "metadata": {},
          "execution_count": 44
        }
      ]
    },
    {
      "cell_type": "code",
      "source": [
        "training_x, training_y = x[:splitting], y[:splitting]\n",
        "testing_x, testing_y = x[splitting:prediction_splitting], y[splitting:prediction_splitting]"
      ],
      "metadata": {
        "id": "LC_hpiRIhIcY"
      },
      "execution_count": null,
      "outputs": []
    },
    {
      "cell_type": "code",
      "source": [
        "from matplotlib import pyplot as plt\n",
        "def visualizer(training_x = training_x,\n",
        "               training_y = training_y,\n",
        "               testing_x = testing_x,\n",
        "               testing_y = testing_y,\n",
        "               prediction = None):\n",
        "  plt.figure(figsize = (5,5))\n",
        "  plt.scatter(training_x, training_y, color = 'b')\n",
        "  plt.scatter(testing_x, testing_y, color = 'g')\n",
        "  \n",
        "observe = visualizer(training_x,training_y,testing_x,testing_y)\n"
      ],
      "metadata": {
        "colab": {
          "base_uri": "https://localhost:8080/",
          "height": 320
        },
        "id": "DaVZoS1Vhj70",
        "outputId": "607c297f-75c0-42ff-c55a-613f21333916"
      },
      "execution_count": null,
      "outputs": [
        {
          "output_type": "display_data",
          "data": {
            "text/plain": [
              "<Figure size 360x360 with 1 Axes>"
            ],
            "image/png": "[encoded data removed]"
          },
          "metadata": {
            "needs_background": "light"
          }
        }
      ]
    },
    {
      "cell_type": "code",
      "source": [
        "from torch import nn\n",
        "class LinearRegression(nn.Module):\n",
        "    def __init__(self):\n",
        "        super().__init__()\n",
        "        self.linear_layer = nn.Linear(in_features = 1,\n",
        "                                out_features = 1)\n",
        "    def forward(self, x: torch.Tensor) -> torch.Tensor:\n",
        "        return self.linear_layer(x)\n"
      ],
      "metadata": {
        "id": "QfM6Vzfgyvf4"
      },
      "execution_count": null,
      "outputs": []
    },
    {
      "cell_type": "code",
      "source": [
        "model = LinearRegression()\n",
        "model.state_dict()"
      ],
      "metadata": {
        "colab": {
          "base_uri": "https://localhost:8080/"
        },
        "id": "T5SeB9yF0C1n",
        "outputId": "6af5f410-add3-4487-ca43-0c0be1cb9b74"
      },
      "execution_count": null,
      "outputs": [
        {
          "output_type": "execute_result",
          "data": {
            "text/plain": [
              "OrderedDict([('linear_layer.weight', tensor([[-0.9083]])),\n",
              "             ('linear_layer.bias', tensor([-0.3690]))])"
            ]
          },
          "metadata": {},
          "execution_count": 48
        }
      ]
    },
    {
      "cell_type": "code",
      "source": [
        "next(model.parameters()).device"
      ],
      "metadata": {
        "colab": {
          "base_uri": "https://localhost:8080/"
        },
        "id": "gKEBAOR2jOon",
        "outputId": "17098042-c6cb-46d9-81e2-fbb7c8b7a2f3"
      },
      "execution_count": null,
      "outputs": [
        {
          "output_type": "execute_result",
          "data": {
            "text/plain": [
              "device(type='cpu')"
            ]
          },
          "metadata": {},
          "execution_count": 49
        }
      ]
    },
    {
      "cell_type": "code",
      "source": [
        "loss_fn = nn.L1Loss()\n",
        "optimizer = torch.optim.SGD(params = model.parameters(),\n",
        "                            lr = 0.05)"
      ],
      "metadata": {
        "id": "mdNEjWQd1nto"
      },
      "execution_count": null,
      "outputs": []
    },
    {
      "cell_type": "code",
      "source": [
        "torch.manual_seed(42)\n",
        "epochs = 400\n",
        "no_epoch = []\n",
        "training_loss = []\n",
        "testing_loss = []\n",
        "for epoch in range(epochs):\n",
        "  no_epoch.append(epoch)\n",
        "  model.train()\n",
        "  pred = model(training_x)\n",
        "  loss = loss_fn(pred, training_y)\n",
        "  training_loss.append(loss.detach().numpy())\n",
        "  optimizer.zero_grad()\n",
        "  loss.backward()\n",
        "  optimizer.step()\n",
        "  # print(model.state_dict())\n",
        "  model.eval()\n",
        "  with torch.inference_mode():\n",
        "    test_pred = model(testing_x)\n",
        "    test_loss = loss_fn(test_pred, testing_y)\n",
        "    testing_loss.append(test_loss)\n",
        "\n",
        "\n"
      ],
      "metadata": {
        "id": "T4Kzra9S2sKT"
      },
      "execution_count": null,
      "outputs": []
    },
    {
      "cell_type": "code",
      "source": [
        "plt.scatter(training_x, training_y, color = 'b', label = 'training')\n",
        "plt.scatter(testing_x, testing_y, color = 'r', label = 'testing')\n",
        "plt.scatter(testing_x, test_pred, color = 'g', label = 'prediction')"
      ],
      "metadata": {
        "colab": {
          "base_uri": "https://localhost:8080/",
          "height": 283
        },
        "id": "ugl6g8owmWlM",
        "outputId": "39009edc-ed5c-4c9a-bdab-fe4d6c49798d"
      },
      "execution_count": null,
      "outputs": [
        {
          "output_type": "execute_result",
          "data": {
            "text/plain": [
              "<matplotlib.collections.PathCollection at 0x7fd218aed1c0>"
            ]
          },
          "metadata": {},
          "execution_count": 52
        },
        {
          "output_type": "display_data",
          "data": {
            "text/plain": [
              "<Figure size 432x288 with 1 Axes>"
            ],
            "image/png": "[encoded data removed]"
          },
          "metadata": {
            "needs_background": "light"
          }
        }
      ]
    },
    {
      "cell_type": "code",
      "source": [
        "plt.plot(no_epoch, training_loss, label = 'training loss')\n",
        "plt.plot(no_epoch, testing_loss, label = 'testing loss')\n",
        "plt.legend()"
      ],
      "metadata": {
        "colab": {
          "base_uri": "https://localhost:8080/",
          "height": 283
        },
        "id": "JIfz7e-H5jdk",
        "outputId": "81080b38-5ad8-4703-b91e-38cb5f10c612"
      },
      "execution_count": null,
      "outputs": [
        {
          "output_type": "execute_result",
          "data": {
            "text/plain": [
              "<matplotlib.legend.Legend at 0x7fd218a4df40>"
            ]
          },
          "metadata": {},
          "execution_count": 53
        },
        {
          "output_type": "display_data",
          "data": {
            "text/plain": [
              "<Figure size 432x288 with 1 Axes>"
            ],
            "image/png": "[encoded data removed]"
          },
          "metadata": {
            "needs_background": "light"
          }
        }
      ]
    },
    {
      "cell_type": "code",
      "source": [
        "from pathlib import Path"
      ],
      "metadata": {
        "id": "j2yHEYIdBbpT"
      },
      "execution_count": null,
      "outputs": []
    },
    {
      "cell_type": "code",
      "source": [
        "Model_path = Path('Models') # create model directory\n",
        "print(Model_path)\n",
        "Model_path.mkdir(parents = True, exist_ok = True)\n",
        "\n",
        "# Save\n",
        "\n",
        "Model_name = \"Linear_layer\"\n",
        "Model_save_path = Model_path / Model_name"
      ],
      "metadata": {
        "id": "QFhjws9KCFYh",
        "colab": {
          "base_uri": "https://localhost:8080/"
        },
        "outputId": "bda008f5-a761-438f-f1d1-124af9fbb00c"
      },
      "execution_count": null,
      "outputs": [
        {
          "output_type": "stream",
          "name": "stdout",
          "text": [
            "Models\n"
          ]
        }
      ]
    },
    {
      "cell_type": "code",
      "source": [
        "torch.save(obj = model.state_dict(), f = Model_save_path)"
      ],
      "metadata": {
        "id": "RCniWC-e7UH4"
      },
      "execution_count": null,
      "outputs": []
    },
    {
      "cell_type": "code",
      "source": [
        "loaded_model = LinearRegression()\n"
      ],
      "metadata": {
        "id": "N7ljaPD97xEw"
      },
      "execution_count": null,
      "outputs": []
    },
    {
      "cell_type": "code",
      "source": [
        "print(loaded_model.load_state_dict(torch.load(Model_save_path)))\n"
      ],
      "metadata": {
        "colab": {
          "base_uri": "https://localhost:8080/"
        },
        "id": "zUgdfrFzKyTo",
        "outputId": "0ea024f6-c555-48f2-9aad-f81253dab10a"
      },
      "execution_count": null,
      "outputs": [
        {
          "output_type": "stream",
          "name": "stdout",
          "text": [
            "<All keys matched successfully>\n"
          ]
        }
      ]
    },
    {
      "cell_type": "code",
      "source": [],
      "metadata": {
        "id": "x4JvO0QMLZW-"
      },
      "execution_count": null,
      "outputs": []
    }
  ]
}